{
 "cells": [
  {
   "cell_type": "code",
   "execution_count": null,
   "metadata": {},
   "outputs": [],
   "source": [
    "# Sentiment Score\n",
    "\n",
    "# Load Sentiment Words\n",
    "\n",
    "sentiws = []\n",
    "\n",
    "import json\n",
    "filename = 'SentiWord_info.json'\n",
    "with open(filename) as json_data:\n",
    "    sentiw = json.load(json_data)\n",
    "    for d in sentiw:\n",
    "        for key, value in d.items():\n",
    "            if key == 'polarity':\n",
    "                d[key] = int(value)\n",
    "\n",
    "pos = []\n",
    "neg  = []\n",
    "for d in sentiw:\n",
    "    if d['polarity'] < 0:\n",
    "        neg.append(d['word'])\n",
    "    elif d['polarity'] > 1:\n",
    "        pos.append(d['word'])\n",
    "\n",
    "# Calculates Sentiment Score Based on P-N/All Algorithm\n",
    "\n",
    "\n",
    "def getSentiScore(corpus):\n",
    "    '''\n",
    "    corpus: the corpus that is cleaned according to TweetsCorpus class\n",
    "    returns: sentiment score based on p-n/all\n",
    "    =======\n",
    "    ordered labels for each tokenized nouns list\n",
    "    '''\n",
    "    # basically the score is sum of positive matches - negative matches\n",
    "    # 1 if the word match with a word in pos lexicon, 0 if the word match with the word in neg lexicon\n",
    "    # if positive matches - negative matches > 0, then the result is pos; ==0 neutral, <0, neg\n",
    "    # and then normalize to something between 0 and 1\n",
    "    \n",
    "    # no need to do this on each text, do it on a joined text (a string)\n",
    "    # use TweetsCorpus class\n",
    "    # phrases_list = corpus.getPhrases()\n",
    "    nouns_list = corpus.getNouns()\n",
    "    # compare the nouns_list with the pos and neg lists:\n",
    "    p = len(list(filter(lambda x: x in pos, nouns_list)))\n",
    "    n = len(list(filter(lambda x: x in neg, nouns_list)))\n",
    "    # use Counter\n",
    "    corpus_sent_score = (p-n)/(p+n)\n",
    "    return(corpus_sent_score)"
   ]
  }
 ],
 "metadata": {
  "kernelspec": {
   "display_name": "Python 3",
   "language": "python",
   "name": "python3"
  },
  "language_info": {
   "codemirror_mode": {
    "name": "ipython",
    "version": 3
   },
   "file_extension": ".py",
   "mimetype": "text/x-python",
   "name": "python",
   "nbconvert_exporter": "python",
   "pygments_lexer": "ipython3",
   "version": "3.7.3"
  }
 },
 "nbformat": 4,
 "nbformat_minor": 2
}
